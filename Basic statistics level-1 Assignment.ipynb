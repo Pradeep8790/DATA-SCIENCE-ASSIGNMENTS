{
 "cells": [
  {
   "cell_type": "code",
   "execution_count": 1,
   "id": "13bb399f",
   "metadata": {
    "ExecuteTime": {
     "end_time": "2022-11-23T05:06:16.115445Z",
     "start_time": "2022-11-23T05:06:11.701519Z"
    }
   },
   "outputs": [],
   "source": [
    "import numpy as np \n",
    "import pandas as pd\n",
    "import matplotlib.pyplot as plt\n",
    "import seaborn as sns\n",
    "%matplotlib inline"
   ]
  },
  {
   "cell_type": "markdown",
   "id": "c47e3e51",
   "metadata": {},
   "source": [
    "# Question no.7"
   ]
  },
  {
   "cell_type": "code",
   "execution_count": 2,
   "id": "7d8fb3a7",
   "metadata": {
    "ExecuteTime": {
     "end_time": "2022-11-23T05:10:35.301486Z",
     "start_time": "2022-11-23T05:10:35.253186Z"
    }
   },
   "outputs": [],
   "source": [
    "Q7=pd.read_csv(\"Q7 (2).csv\")"
   ]
  },
  {
   "cell_type": "code",
   "execution_count": 3,
   "id": "1412fad8",
   "metadata": {
    "ExecuteTime": {
     "end_time": "2022-11-23T05:10:54.552810Z",
     "start_time": "2022-11-23T05:10:54.505470Z"
    }
   },
   "outputs": [
    {
     "data": {
      "text/html": [
       "<div>\n",
       "<style scoped>\n",
       "    .dataframe tbody tr th:only-of-type {\n",
       "        vertical-align: middle;\n",
       "    }\n",
       "\n",
       "    .dataframe tbody tr th {\n",
       "        vertical-align: top;\n",
       "    }\n",
       "\n",
       "    .dataframe thead th {\n",
       "        text-align: right;\n",
       "    }\n",
       "</style>\n",
       "<table border=\"1\" class=\"dataframe\">\n",
       "  <thead>\n",
       "    <tr style=\"text-align: right;\">\n",
       "      <th></th>\n",
       "      <th>Unnamed: 0</th>\n",
       "      <th>Points</th>\n",
       "      <th>Score</th>\n",
       "      <th>Weigh</th>\n",
       "    </tr>\n",
       "  </thead>\n",
       "  <tbody>\n",
       "    <tr>\n",
       "      <th>0</th>\n",
       "      <td>Mazda RX4</td>\n",
       "      <td>3.90</td>\n",
       "      <td>2.620</td>\n",
       "      <td>16.46</td>\n",
       "    </tr>\n",
       "    <tr>\n",
       "      <th>1</th>\n",
       "      <td>Mazda RX4 Wag</td>\n",
       "      <td>3.90</td>\n",
       "      <td>2.875</td>\n",
       "      <td>17.02</td>\n",
       "    </tr>\n",
       "    <tr>\n",
       "      <th>2</th>\n",
       "      <td>Datsun 710</td>\n",
       "      <td>3.85</td>\n",
       "      <td>2.320</td>\n",
       "      <td>18.61</td>\n",
       "    </tr>\n",
       "    <tr>\n",
       "      <th>3</th>\n",
       "      <td>Hornet 4 Drive</td>\n",
       "      <td>3.08</td>\n",
       "      <td>3.215</td>\n",
       "      <td>19.44</td>\n",
       "    </tr>\n",
       "    <tr>\n",
       "      <th>4</th>\n",
       "      <td>Hornet Sportabout</td>\n",
       "      <td>3.15</td>\n",
       "      <td>3.440</td>\n",
       "      <td>17.02</td>\n",
       "    </tr>\n",
       "  </tbody>\n",
       "</table>\n",
       "</div>"
      ],
      "text/plain": [
       "          Unnamed: 0  Points  Score  Weigh\n",
       "0          Mazda RX4    3.90  2.620  16.46\n",
       "1      Mazda RX4 Wag    3.90  2.875  17.02\n",
       "2         Datsun 710    3.85  2.320  18.61\n",
       "3     Hornet 4 Drive    3.08  3.215  19.44\n",
       "4  Hornet Sportabout    3.15  3.440  17.02"
      ]
     },
     "execution_count": 3,
     "metadata": {},
     "output_type": "execute_result"
    }
   ],
   "source": [
    "Q7.head()"
   ]
  },
  {
   "cell_type": "code",
   "execution_count": 8,
   "id": "1fa908f4",
   "metadata": {
    "ExecuteTime": {
     "end_time": "2022-11-23T05:12:00.637194Z",
     "start_time": "2022-11-23T05:12:00.601579Z"
    }
   },
   "outputs": [
    {
     "data": {
      "text/html": [
       "<div>\n",
       "<style scoped>\n",
       "    .dataframe tbody tr th:only-of-type {\n",
       "        vertical-align: middle;\n",
       "    }\n",
       "\n",
       "    .dataframe tbody tr th {\n",
       "        vertical-align: top;\n",
       "    }\n",
       "\n",
       "    .dataframe thead th {\n",
       "        text-align: right;\n",
       "    }\n",
       "</style>\n",
       "<table border=\"1\" class=\"dataframe\">\n",
       "  <thead>\n",
       "    <tr style=\"text-align: right;\">\n",
       "      <th></th>\n",
       "      <th>Points</th>\n",
       "      <th>Score</th>\n",
       "      <th>Weigh</th>\n",
       "    </tr>\n",
       "  </thead>\n",
       "  <tbody>\n",
       "    <tr>\n",
       "      <th>count</th>\n",
       "      <td>32.000000</td>\n",
       "      <td>32.000000</td>\n",
       "      <td>32.000000</td>\n",
       "    </tr>\n",
       "    <tr>\n",
       "      <th>mean</th>\n",
       "      <td>3.596563</td>\n",
       "      <td>3.217250</td>\n",
       "      <td>17.848750</td>\n",
       "    </tr>\n",
       "    <tr>\n",
       "      <th>std</th>\n",
       "      <td>0.534679</td>\n",
       "      <td>0.978457</td>\n",
       "      <td>1.786943</td>\n",
       "    </tr>\n",
       "    <tr>\n",
       "      <th>min</th>\n",
       "      <td>2.760000</td>\n",
       "      <td>1.513000</td>\n",
       "      <td>14.500000</td>\n",
       "    </tr>\n",
       "    <tr>\n",
       "      <th>25%</th>\n",
       "      <td>3.080000</td>\n",
       "      <td>2.581250</td>\n",
       "      <td>16.892500</td>\n",
       "    </tr>\n",
       "    <tr>\n",
       "      <th>50%</th>\n",
       "      <td>3.695000</td>\n",
       "      <td>3.325000</td>\n",
       "      <td>17.710000</td>\n",
       "    </tr>\n",
       "    <tr>\n",
       "      <th>75%</th>\n",
       "      <td>3.920000</td>\n",
       "      <td>3.610000</td>\n",
       "      <td>18.900000</td>\n",
       "    </tr>\n",
       "    <tr>\n",
       "      <th>max</th>\n",
       "      <td>4.930000</td>\n",
       "      <td>5.424000</td>\n",
       "      <td>22.900000</td>\n",
       "    </tr>\n",
       "  </tbody>\n",
       "</table>\n",
       "</div>"
      ],
      "text/plain": [
       "          Points      Score      Weigh\n",
       "count  32.000000  32.000000  32.000000\n",
       "mean    3.596563   3.217250  17.848750\n",
       "std     0.534679   0.978457   1.786943\n",
       "min     2.760000   1.513000  14.500000\n",
       "25%     3.080000   2.581250  16.892500\n",
       "50%     3.695000   3.325000  17.710000\n",
       "75%     3.920000   3.610000  18.900000\n",
       "max     4.930000   5.424000  22.900000"
      ]
     },
     "execution_count": 8,
     "metadata": {},
     "output_type": "execute_result"
    }
   ],
   "source": [
    "Q7.describe()"
   ]
  },
  {
   "cell_type": "code",
   "execution_count": 9,
   "id": "95674435",
   "metadata": {
    "ExecuteTime": {
     "end_time": "2022-11-23T05:12:13.156304Z",
     "start_time": "2022-11-23T05:12:12.557537Z"
    }
   },
   "outputs": [
    {
     "name": "stderr",
     "output_type": "stream",
     "text": [
      "C:\\Users\\pradeep kumar\\AppData\\Local\\Temp\\ipykernel_11220\\1360685345.py:1: FutureWarning: Dropping of nuisance columns in DataFrame reductions (with 'numeric_only=None') is deprecated; in a future version this will raise TypeError.  Select only valid columns before calling the reduction.\n",
      "  Q7.median()\n"
     ]
    },
    {
     "data": {
      "text/plain": [
       "Points     3.695\n",
       "Score      3.325\n",
       "Weigh     17.710\n",
       "dtype: float64"
      ]
     },
     "execution_count": 9,
     "metadata": {},
     "output_type": "execute_result"
    }
   ],
   "source": [
    "Q7.median()"
   ]
  },
  {
   "cell_type": "code",
   "execution_count": 10,
   "id": "ad499185",
   "metadata": {
    "ExecuteTime": {
     "end_time": "2022-11-23T05:12:26.164871Z",
     "start_time": "2022-11-23T05:12:26.131537Z"
    }
   },
   "outputs": [
    {
     "data": {
      "text/html": [
       "<div>\n",
       "<style scoped>\n",
       "    .dataframe tbody tr th:only-of-type {\n",
       "        vertical-align: middle;\n",
       "    }\n",
       "\n",
       "    .dataframe tbody tr th {\n",
       "        vertical-align: top;\n",
       "    }\n",
       "\n",
       "    .dataframe thead th {\n",
       "        text-align: right;\n",
       "    }\n",
       "</style>\n",
       "<table border=\"1\" class=\"dataframe\">\n",
       "  <thead>\n",
       "    <tr style=\"text-align: right;\">\n",
       "      <th></th>\n",
       "      <th>Points</th>\n",
       "      <th>Score</th>\n",
       "      <th>Weigh</th>\n",
       "    </tr>\n",
       "  </thead>\n",
       "  <tbody>\n",
       "    <tr>\n",
       "      <th>0</th>\n",
       "      <td>3.07</td>\n",
       "      <td>3.44</td>\n",
       "      <td>17.02</td>\n",
       "    </tr>\n",
       "    <tr>\n",
       "      <th>1</th>\n",
       "      <td>3.92</td>\n",
       "      <td>NaN</td>\n",
       "      <td>18.90</td>\n",
       "    </tr>\n",
       "  </tbody>\n",
       "</table>\n",
       "</div>"
      ],
      "text/plain": [
       "   Points  Score  Weigh\n",
       "0    3.07   3.44  17.02\n",
       "1    3.92    NaN  18.90"
      ]
     },
     "execution_count": 10,
     "metadata": {},
     "output_type": "execute_result"
    }
   ],
   "source": [
    "Q7[['Points','Score','Weigh']].mode()"
   ]
  },
  {
   "cell_type": "code",
   "execution_count": 12,
   "id": "8c5f4e7a",
   "metadata": {
    "ExecuteTime": {
     "end_time": "2022-11-23T05:15:13.571148Z",
     "start_time": "2022-11-23T05:15:13.440673Z"
    }
   },
   "outputs": [
    {
     "data": {
      "image/png": "[encoded data removed]",
      "text/plain": [
       "<Figure size 432x288 with 1 Axes>"
      ]
     },
     "metadata": {
      "needs_background": "light"
     },
     "output_type": "display_data"
    }
   ],
   "source": [
    "plt.boxplot(Q7['Points'])\n",
    "plt.show()"
   ]
  },
  {
   "cell_type": "code",
   "execution_count": 13,
   "id": "2773c92d",
   "metadata": {
    "ExecuteTime": {
     "end_time": "2022-11-23T05:16:07.678318Z",
     "start_time": "2022-11-23T05:16:07.547790Z"
    }
   },
   "outputs": [
    {
     "data": {
      "image/png": "[encoded data removed]",
      "text/plain": [
       "<Figure size 432x288 with 1 Axes>"
      ]
     },
     "metadata": {
      "needs_background": "light"
     },
     "output_type": "display_data"
    }
   ],
   "source": [
    "plt.boxplot(Q7['Score'])\n",
    "plt.show()"
   ]
  },
  {
   "cell_type": "markdown",
   "id": "40800695",
   "metadata": {},
   "source": [
    "Score has outliers"
   ]
  },
  {
   "cell_type": "code",
   "execution_count": 14,
   "id": "fa47953a",
   "metadata": {
    "ExecuteTime": {
     "end_time": "2022-11-23T05:16:09.205883Z",
     "start_time": "2022-11-23T05:16:09.097011Z"
    }
   },
   "outputs": [
    {
     "data": {
      "image/png": "[encoded data removed]",
      "text/plain": [
       "<Figure size 432x288 with 1 Axes>"
      ]
     },
     "metadata": {
      "needs_background": "light"
     },
     "output_type": "display_data"
    }
   ],
   "source": [
    "plt.boxplot(Q7['Weigh'])\n",
    "plt.show()"
   ]
  },
  {
   "cell_type": "markdown",
   "id": "8cefcd55",
   "metadata": {},
   "source": [
    "Weigh has outliers"
   ]
  },
  {
   "cell_type": "markdown",
   "id": "f0bde147",
   "metadata": {},
   "source": [
    "# Question NO. 9"
   ]
  },
  {
   "cell_type": "code",
   "execution_count": 15,
   "id": "1fe9c957",
   "metadata": {
    "ExecuteTime": {
     "end_time": "2022-11-23T05:18:56.404292Z",
     "start_time": "2022-11-23T05:18:56.377681Z"
    }
   },
   "outputs": [],
   "source": [
    "q9=pd.read_csv(\"Q9_a (1).csv\")"
   ]
  },
  {
   "cell_type": "code",
   "execution_count": 16,
   "id": "21e9b76b",
   "metadata": {
    "ExecuteTime": {
     "end_time": "2022-11-23T05:19:08.781839Z",
     "start_time": "2022-11-23T05:19:08.763233Z"
    }
   },
   "outputs": [
    {
     "data": {
      "text/html": [
       "<div>\n",
       "<style scoped>\n",
       "    .dataframe tbody tr th:only-of-type {\n",
       "        vertical-align: middle;\n",
       "    }\n",
       "\n",
       "    .dataframe tbody tr th {\n",
       "        vertical-align: top;\n",
       "    }\n",
       "\n",
       "    .dataframe thead th {\n",
       "        text-align: right;\n",
       "    }\n",
       "</style>\n",
       "<table border=\"1\" class=\"dataframe\">\n",
       "  <thead>\n",
       "    <tr style=\"text-align: right;\">\n",
       "      <th></th>\n",
       "      <th>Index</th>\n",
       "      <th>speed</th>\n",
       "      <th>dist</th>\n",
       "    </tr>\n",
       "  </thead>\n",
       "  <tbody>\n",
       "    <tr>\n",
       "      <th>0</th>\n",
       "      <td>1</td>\n",
       "      <td>4</td>\n",
       "      <td>2</td>\n",
       "    </tr>\n",
       "    <tr>\n",
       "      <th>1</th>\n",
       "      <td>2</td>\n",
       "      <td>4</td>\n",
       "      <td>10</td>\n",
       "    </tr>\n",
       "    <tr>\n",
       "      <th>2</th>\n",
       "      <td>3</td>\n",
       "      <td>7</td>\n",
       "      <td>4</td>\n",
       "    </tr>\n",
       "    <tr>\n",
       "      <th>3</th>\n",
       "      <td>4</td>\n",
       "      <td>7</td>\n",
       "      <td>22</td>\n",
       "    </tr>\n",
       "    <tr>\n",
       "      <th>4</th>\n",
       "      <td>5</td>\n",
       "      <td>8</td>\n",
       "      <td>16</td>\n",
       "    </tr>\n",
       "  </tbody>\n",
       "</table>\n",
       "</div>"
      ],
      "text/plain": [
       "   Index  speed  dist\n",
       "0      1      4     2\n",
       "1      2      4    10\n",
       "2      3      7     4\n",
       "3      4      7    22\n",
       "4      5      8    16"
      ]
     },
     "execution_count": 16,
     "metadata": {},
     "output_type": "execute_result"
    }
   ],
   "source": [
    "q9.head()"
   ]
  },
  {
   "cell_type": "code",
   "execution_count": 17,
   "id": "d4ec64bd",
   "metadata": {
    "ExecuteTime": {
     "end_time": "2022-11-23T05:19:21.598056Z",
     "start_time": "2022-11-23T05:19:21.589375Z"
    }
   },
   "outputs": [
    {
     "name": "stdout",
     "output_type": "stream",
     "text": [
      "skewness :  [ 0.         -0.11395477  0.78248352]\n",
      "kurtosis :  [-1.20096038 -0.57714742  0.24801866]\n"
     ]
    }
   ],
   "source": [
    "from scipy.stats import skew\n",
    "from scipy.stats import kurtosis\n",
    "print(\"skewness : \",skew(q9))\n",
    "print(\"kurtosis : \",kurtosis(q9))"
   ]
  },
  {
   "cell_type": "code",
   "execution_count": 18,
   "id": "39734086",
   "metadata": {
    "ExecuteTime": {
     "end_time": "2022-11-23T05:20:50.923115Z",
     "start_time": "2022-11-23T05:20:50.743549Z"
    }
   },
   "outputs": [
    {
     "data": {
      "text/plain": [
       "(array([2., 3., 4., 6., 8., 5., 7., 8., 1., 6.]),\n",
       " array([ 4. ,  6.1,  8.2, 10.3, 12.4, 14.5, 16.6, 18.7, 20.8, 22.9, 25. ]),\n",
       " <BarContainer object of 10 artists>)"
      ]
     },
     "execution_count": 18,
     "metadata": {},
     "output_type": "execute_result"
    },
    {
     "data": {
      "image/png": "[encoded data removed]",
      "text/plain": [
       "<Figure size 432x288 with 1 Axes>"
      ]
     },
     "metadata": {
      "needs_background": "light"
     },
     "output_type": "display_data"
    }
   ],
   "source": [
    "plt.hist(q9[\"speed\"])"
   ]
  },
  {
   "cell_type": "markdown",
   "id": "d8b1ca6c",
   "metadata": {},
   "source": [
    "The speed has distribution of data concentrated on the right "
   ]
  },
  {
   "cell_type": "code",
   "execution_count": 19,
   "id": "0bd88cd4",
   "metadata": {
    "ExecuteTime": {
     "end_time": "2022-11-23T05:21:09.137299Z",
     "start_time": "2022-11-23T05:21:08.955236Z"
    }
   },
   "outputs": [
    {
     "data": {
      "text/plain": [
       "(array([ 4.,  8., 14.,  6.,  7.,  4.,  3.,  3.,  0.,  1.]),\n",
       " array([  2. ,  13.8,  25.6,  37.4,  49.2,  61. ,  72.8,  84.6,  96.4,\n",
       "        108.2, 120. ]),\n",
       " <BarContainer object of 10 artists>)"
      ]
     },
     "execution_count": 19,
     "metadata": {},
     "output_type": "execute_result"
    },
    {
     "data": {
      "image/png": "[encoded data removed]",
      "text/plain": [
       "<Figure size 432x288 with 1 Axes>"
      ]
     },
     "metadata": {
      "needs_background": "light"
     },
     "output_type": "display_data"
    }
   ],
   "source": [
    "plt.hist(q9[\"dist\"])"
   ]
  },
  {
   "cell_type": "markdown",
   "id": "de474294",
   "metadata": {},
   "source": [
    "The distance has distribution of data concentrated on the left "
   ]
  },
  {
   "cell_type": "code",
   "execution_count": 20,
   "id": "2c8f84b2",
   "metadata": {
    "ExecuteTime": {
     "end_time": "2022-11-23T05:23:23.524724Z",
     "start_time": "2022-11-23T05:23:23.486143Z"
    }
   },
   "outputs": [],
   "source": [
    "q9b=pd.read_csv(\"Q9_b.csv\")"
   ]
  },
  {
   "cell_type": "code",
   "execution_count": 21,
   "id": "4a82f36d",
   "metadata": {
    "ExecuteTime": {
     "end_time": "2022-11-23T05:23:31.890395Z",
     "start_time": "2022-11-23T05:23:31.869696Z"
    }
   },
   "outputs": [
    {
     "data": {
      "text/html": [
       "<div>\n",
       "<style scoped>\n",
       "    .dataframe tbody tr th:only-of-type {\n",
       "        vertical-align: middle;\n",
       "    }\n",
       "\n",
       "    .dataframe tbody tr th {\n",
       "        vertical-align: top;\n",
       "    }\n",
       "\n",
       "    .dataframe thead th {\n",
       "        text-align: right;\n",
       "    }\n",
       "</style>\n",
       "<table border=\"1\" class=\"dataframe\">\n",
       "  <thead>\n",
       "    <tr style=\"text-align: right;\">\n",
       "      <th></th>\n",
       "      <th>Unnamed: 0</th>\n",
       "      <th>SP</th>\n",
       "      <th>WT</th>\n",
       "    </tr>\n",
       "  </thead>\n",
       "  <tbody>\n",
       "    <tr>\n",
       "      <th>0</th>\n",
       "      <td>1</td>\n",
       "      <td>104.185353</td>\n",
       "      <td>28.762059</td>\n",
       "    </tr>\n",
       "    <tr>\n",
       "      <th>1</th>\n",
       "      <td>2</td>\n",
       "      <td>105.461264</td>\n",
       "      <td>30.466833</td>\n",
       "    </tr>\n",
       "    <tr>\n",
       "      <th>2</th>\n",
       "      <td>3</td>\n",
       "      <td>105.461264</td>\n",
       "      <td>30.193597</td>\n",
       "    </tr>\n",
       "    <tr>\n",
       "      <th>3</th>\n",
       "      <td>4</td>\n",
       "      <td>113.461264</td>\n",
       "      <td>30.632114</td>\n",
       "    </tr>\n",
       "    <tr>\n",
       "      <th>4</th>\n",
       "      <td>5</td>\n",
       "      <td>104.461264</td>\n",
       "      <td>29.889149</td>\n",
       "    </tr>\n",
       "  </tbody>\n",
       "</table>\n",
       "</div>"
      ],
      "text/plain": [
       "   Unnamed: 0          SP         WT\n",
       "0           1  104.185353  28.762059\n",
       "1           2  105.461264  30.466833\n",
       "2           3  105.461264  30.193597\n",
       "3           4  113.461264  30.632114\n",
       "4           5  104.461264  29.889149"
      ]
     },
     "execution_count": 21,
     "metadata": {},
     "output_type": "execute_result"
    }
   ],
   "source": [
    "q9b.head()"
   ]
  },
  {
   "cell_type": "code",
   "execution_count": 22,
   "id": "02de4ed6",
   "metadata": {
    "ExecuteTime": {
     "end_time": "2022-11-23T05:23:43.417840Z",
     "start_time": "2022-11-23T05:23:43.400435Z"
    }
   },
   "outputs": [
    {
     "name": "stdout",
     "output_type": "stream",
     "text": [
      "skewness :  [ 0.          1.58145368 -0.60330993]\n",
      "kurtosis :  [-1.20036585  2.72352149  0.81946588]\n"
     ]
    }
   ],
   "source": [
    "print(\"skewness : \",skew(q9b))\n",
    "print(\"kurtosis : \",kurtosis(q9b))"
   ]
  },
  {
   "cell_type": "code",
   "execution_count": 23,
   "id": "784a2f86",
   "metadata": {
    "ExecuteTime": {
     "end_time": "2022-11-23T05:25:20.840497Z",
     "start_time": "2022-11-23T05:25:20.660510Z"
    }
   },
   "outputs": [
    {
     "data": {
      "text/plain": [
       "(array([ 8., 12., 32., 10., 10.,  2.,  1.,  2.,  1.,  3.]),\n",
       " array([ 99.56490661, 106.56826723, 113.57162785, 120.57498847,\n",
       "        127.57834909, 134.58170971, 141.58507032, 148.58843094,\n",
       "        155.59179156, 162.59515218, 169.5985128 ]),\n",
       " <BarContainer object of 10 artists>)"
      ]
     },
     "execution_count": 23,
     "metadata": {},
     "output_type": "execute_result"
    },
    {
     "data": {
      "image/png": "[encoded data removed]",
      "text/plain": [
       "<Figure size 432x288 with 1 Axes>"
      ]
     },
     "metadata": {
      "needs_background": "light"
     },
     "output_type": "display_data"
    }
   ],
   "source": [
    "plt.hist(q9b[\"SP\"])"
   ]
  },
  {
   "cell_type": "code",
   "execution_count": 24,
   "id": "f8834747",
   "metadata": {
    "ExecuteTime": {
     "end_time": "2022-11-23T05:25:22.864648Z",
     "start_time": "2022-11-23T05:25:22.689018Z"
    }
   },
   "outputs": [
    {
     "data": {
      "text/plain": [
       "(array([ 9.,  0.,  0., 22., 19., 18.,  7.,  5.,  0.,  1.]),\n",
       " array([15.71285853, 19.44134791, 23.1698373 , 26.89832668, 30.62681606,\n",
       "        34.35530544, 38.08379483, 41.81228421, 45.54077359, 49.26926298,\n",
       "        52.99775236]),\n",
       " <BarContainer object of 10 artists>)"
      ]
     },
     "execution_count": 24,
     "metadata": {},
     "output_type": "execute_result"
    },
    {
     "data": {
      "image/png": "[encoded data removed]",
      "text/plain": [
       "<Figure size 432x288 with 1 Axes>"
      ]
     },
     "metadata": {
      "needs_background": "light"
     },
     "output_type": "display_data"
    }
   ],
   "source": [
    "plt.hist(q9b[\"WT\"])"
   ]
  },
  {
   "cell_type": "code",
   "execution_count": 25,
   "id": "753a0870",
   "metadata": {
    "ExecuteTime": {
     "end_time": "2022-11-23T05:25:33.944956Z",
     "start_time": "2022-11-23T05:25:33.257481Z"
    }
   },
   "outputs": [
    {
     "data": {
      "image/png": "[encoded data removed]",
      "text/plain": [
       "<Figure size 432x432 with 3 Axes>"
      ]
     },
     "metadata": {
      "needs_background": "light"
     },
     "output_type": "display_data"
    }
   ],
   "source": [
    "sns.jointplot(x='SP', y= 'WT', data=q9b,kind='kde')\n",
    "plt.show()"
   ]
  },
  {
   "cell_type": "code",
   "execution_count": 26,
   "id": "26eef32f",
   "metadata": {
    "ExecuteTime": {
     "end_time": "2022-11-23T05:25:53.703678Z",
     "start_time": "2022-11-23T05:25:53.669749Z"
    }
   },
   "outputs": [
    {
     "data": {
      "text/html": [
       "<div>\n",
       "<style scoped>\n",
       "    .dataframe tbody tr th:only-of-type {\n",
       "        vertical-align: middle;\n",
       "    }\n",
       "\n",
       "    .dataframe tbody tr th {\n",
       "        vertical-align: top;\n",
       "    }\n",
       "\n",
       "    .dataframe thead th {\n",
       "        text-align: right;\n",
       "    }\n",
       "</style>\n",
       "<table border=\"1\" class=\"dataframe\">\n",
       "  <thead>\n",
       "    <tr style=\"text-align: right;\">\n",
       "      <th></th>\n",
       "      <th>Unnamed: 0</th>\n",
       "      <th>SP</th>\n",
       "      <th>WT</th>\n",
       "    </tr>\n",
       "  </thead>\n",
       "  <tbody>\n",
       "    <tr>\n",
       "      <th>count</th>\n",
       "      <td>81.000000</td>\n",
       "      <td>81.000000</td>\n",
       "      <td>81.000000</td>\n",
       "    </tr>\n",
       "    <tr>\n",
       "      <th>mean</th>\n",
       "      <td>41.000000</td>\n",
       "      <td>121.540272</td>\n",
       "      <td>32.412577</td>\n",
       "    </tr>\n",
       "    <tr>\n",
       "      <th>std</th>\n",
       "      <td>23.526581</td>\n",
       "      <td>14.181432</td>\n",
       "      <td>7.492813</td>\n",
       "    </tr>\n",
       "    <tr>\n",
       "      <th>min</th>\n",
       "      <td>1.000000</td>\n",
       "      <td>99.564907</td>\n",
       "      <td>15.712859</td>\n",
       "    </tr>\n",
       "    <tr>\n",
       "      <th>25%</th>\n",
       "      <td>21.000000</td>\n",
       "      <td>113.829145</td>\n",
       "      <td>29.591768</td>\n",
       "    </tr>\n",
       "    <tr>\n",
       "      <th>50%</th>\n",
       "      <td>41.000000</td>\n",
       "      <td>118.208698</td>\n",
       "      <td>32.734518</td>\n",
       "    </tr>\n",
       "    <tr>\n",
       "      <th>75%</th>\n",
       "      <td>61.000000</td>\n",
       "      <td>126.404312</td>\n",
       "      <td>37.392524</td>\n",
       "    </tr>\n",
       "    <tr>\n",
       "      <th>max</th>\n",
       "      <td>81.000000</td>\n",
       "      <td>169.598513</td>\n",
       "      <td>52.997752</td>\n",
       "    </tr>\n",
       "  </tbody>\n",
       "</table>\n",
       "</div>"
      ],
      "text/plain": [
       "       Unnamed: 0          SP         WT\n",
       "count   81.000000   81.000000  81.000000\n",
       "mean    41.000000  121.540272  32.412577\n",
       "std     23.526581   14.181432   7.492813\n",
       "min      1.000000   99.564907  15.712859\n",
       "25%     21.000000  113.829145  29.591768\n",
       "50%     41.000000  118.208698  32.734518\n",
       "75%     61.000000  126.404312  37.392524\n",
       "max     81.000000  169.598513  52.997752"
      ]
     },
     "execution_count": 26,
     "metadata": {},
     "output_type": "execute_result"
    }
   ],
   "source": [
    "q9b.describe()"
   ]
  },
  {
   "cell_type": "markdown",
   "id": "45ac60dc",
   "metadata": {},
   "source": [
    "# Question NO: 20"
   ]
  },
  {
   "cell_type": "code",
   "execution_count": 27,
   "id": "43ebfa0a",
   "metadata": {
    "ExecuteTime": {
     "end_time": "2022-11-23T05:26:41.344945Z",
     "start_time": "2022-11-23T05:26:41.316917Z"
    }
   },
   "outputs": [],
   "source": [
    "q20 = pd.read_csv('Cars (1).csv')"
   ]
  },
  {
   "cell_type": "code",
   "execution_count": 28,
   "id": "ab10ed79",
   "metadata": {
    "ExecuteTime": {
     "end_time": "2022-11-23T05:26:53.346458Z",
     "start_time": "2022-11-23T05:26:53.320045Z"
    }
   },
   "outputs": [
    {
     "data": {
      "text/html": [
       "<div>\n",
       "<style scoped>\n",
       "    .dataframe tbody tr th:only-of-type {\n",
       "        vertical-align: middle;\n",
       "    }\n",
       "\n",
       "    .dataframe tbody tr th {\n",
       "        vertical-align: top;\n",
       "    }\n",
       "\n",
       "    .dataframe thead th {\n",
       "        text-align: right;\n",
       "    }\n",
       "</style>\n",
       "<table border=\"1\" class=\"dataframe\">\n",
       "  <thead>\n",
       "    <tr style=\"text-align: right;\">\n",
       "      <th></th>\n",
       "      <th>HP</th>\n",
       "      <th>MPG</th>\n",
       "      <th>VOL</th>\n",
       "      <th>SP</th>\n",
       "      <th>WT</th>\n",
       "    </tr>\n",
       "  </thead>\n",
       "  <tbody>\n",
       "    <tr>\n",
       "      <th>0</th>\n",
       "      <td>49</td>\n",
       "      <td>53.700681</td>\n",
       "      <td>89</td>\n",
       "      <td>104.185353</td>\n",
       "      <td>28.762059</td>\n",
       "    </tr>\n",
       "    <tr>\n",
       "      <th>1</th>\n",
       "      <td>55</td>\n",
       "      <td>50.013401</td>\n",
       "      <td>92</td>\n",
       "      <td>105.461264</td>\n",
       "      <td>30.466833</td>\n",
       "    </tr>\n",
       "    <tr>\n",
       "      <th>2</th>\n",
       "      <td>55</td>\n",
       "      <td>50.013401</td>\n",
       "      <td>92</td>\n",
       "      <td>105.461264</td>\n",
       "      <td>30.193597</td>\n",
       "    </tr>\n",
       "    <tr>\n",
       "      <th>3</th>\n",
       "      <td>70</td>\n",
       "      <td>45.696322</td>\n",
       "      <td>92</td>\n",
       "      <td>113.461264</td>\n",
       "      <td>30.632114</td>\n",
       "    </tr>\n",
       "    <tr>\n",
       "      <th>4</th>\n",
       "      <td>53</td>\n",
       "      <td>50.504232</td>\n",
       "      <td>92</td>\n",
       "      <td>104.461264</td>\n",
       "      <td>29.889149</td>\n",
       "    </tr>\n",
       "  </tbody>\n",
       "</table>\n",
       "</div>"
      ],
      "text/plain": [
       "   HP        MPG  VOL          SP         WT\n",
       "0  49  53.700681   89  104.185353  28.762059\n",
       "1  55  50.013401   92  105.461264  30.466833\n",
       "2  55  50.013401   92  105.461264  30.193597\n",
       "3  70  45.696322   92  113.461264  30.632114\n",
       "4  53  50.504232   92  104.461264  29.889149"
      ]
     },
     "execution_count": 28,
     "metadata": {},
     "output_type": "execute_result"
    }
   ],
   "source": [
    "q20.head()"
   ]
  },
  {
   "cell_type": "code",
   "execution_count": 30,
   "id": "62cc810b",
   "metadata": {
    "ExecuteTime": {
     "end_time": "2022-11-23T05:29:26.350163Z",
     "start_time": "2022-11-23T05:29:26.335781Z"
    }
   },
   "outputs": [
    {
     "data": {
      "text/plain": [
       "0    53.700681\n",
       "1    50.013401\n",
       "2    50.013401\n",
       "3    45.696322\n",
       "4    50.504232\n",
       "Name: MPG, dtype: float64"
      ]
     },
     "execution_count": 30,
     "metadata": {},
     "output_type": "execute_result"
    }
   ],
   "source": [
    "mpg=q20['MPG']\n",
    "mpg.head()"
   ]
  },
  {
   "cell_type": "code",
   "execution_count": 31,
   "id": "fd782829",
   "metadata": {
    "ExecuteTime": {
     "end_time": "2022-11-23T05:29:31.313526Z",
     "start_time": "2022-11-23T05:29:31.306750Z"
    }
   },
   "outputs": [],
   "source": [
    "from scipy.stats import zscore"
   ]
  },
  {
   "cell_type": "code",
   "execution_count": 33,
   "id": "a9e8c357",
   "metadata": {
    "ExecuteTime": {
     "end_time": "2022-11-23T05:29:36.608709Z",
     "start_time": "2022-11-23T05:29:36.596471Z"
    }
   },
   "outputs": [
    {
     "data": {
      "text/plain": [
       "count    81.000000\n",
       "mean     34.422076\n",
       "std       9.131445\n",
       "min      12.101263\n",
       "25%      27.856252\n",
       "50%      35.152727\n",
       "75%      39.531633\n",
       "max      53.700681\n",
       "Name: MPG, dtype: float64"
      ]
     },
     "execution_count": 33,
     "metadata": {},
     "output_type": "execute_result"
    }
   ],
   "source": [
    "mpg.describe()"
   ]
  },
  {
   "cell_type": "code",
   "execution_count": 34,
   "id": "4de1cd12",
   "metadata": {
    "ExecuteTime": {
     "end_time": "2022-11-23T05:29:36.631999Z",
     "start_time": "2022-11-23T05:29:36.613843Z"
    }
   },
   "outputs": [],
   "source": [
    "mpg_38 = q20['MPG'] > 38 "
   ]
  },
  {
   "cell_type": "code",
   "execution_count": 35,
   "id": "5c7a96d3",
   "metadata": {
    "ExecuteTime": {
     "end_time": "2022-11-23T05:29:36.647382Z",
     "start_time": "2022-11-23T05:29:36.634618Z"
    }
   },
   "outputs": [
    {
     "data": {
      "text/plain": [
       "False    48\n",
       "True     33\n",
       "Name: MPG, dtype: int64"
      ]
     },
     "execution_count": 35,
     "metadata": {},
     "output_type": "execute_result"
    }
   ],
   "source": [
    "mpg_38.value_counts()"
   ]
  },
  {
   "cell_type": "code",
   "execution_count": 36,
   "id": "6b9a2470",
   "metadata": {
    "ExecuteTime": {
     "end_time": "2022-11-23T05:29:36.663230Z",
     "start_time": "2022-11-23T05:29:36.651980Z"
    }
   },
   "outputs": [
    {
     "name": "stdout",
     "output_type": "stream",
     "text": [
      "probability of mpg>38 is  0.4074074074074074\n"
     ]
    }
   ],
   "source": [
    "print(\"probability of mpg>38 is \", 33/81)"
   ]
  },
  {
   "cell_type": "code",
   "execution_count": 37,
   "id": "9ce6d046",
   "metadata": {
    "ExecuteTime": {
     "end_time": "2022-11-23T05:29:36.694530Z",
     "start_time": "2022-11-23T05:29:36.667485Z"
    }
   },
   "outputs": [
    {
     "data": {
      "text/plain": [
       "True     61\n",
       "False    20\n",
       "Name: MPG, dtype: int64"
      ]
     },
     "execution_count": 37,
     "metadata": {},
     "output_type": "execute_result"
    }
   ],
   "source": [
    "mpg_40 =q20['MPG'] < 40 \n",
    "mpg_40.value_counts()"
   ]
  },
  {
   "cell_type": "code",
   "execution_count": 38,
   "id": "dbfd8052",
   "metadata": {
    "ExecuteTime": {
     "end_time": "2022-11-23T05:29:36.718696Z",
     "start_time": "2022-11-23T05:29:36.697692Z"
    }
   },
   "outputs": [
    {
     "name": "stdout",
     "output_type": "stream",
     "text": [
      "probability of mpg < 40  is  0.7530864197530864\n"
     ]
    }
   ],
   "source": [
    "print(\"probability of mpg < 40  is \", 61/81)"
   ]
  },
  {
   "cell_type": "code",
   "execution_count": 39,
   "id": "32584ab2",
   "metadata": {
    "ExecuteTime": {
     "end_time": "2022-11-23T05:29:36.742907Z",
     "start_time": "2022-11-23T05:29:36.724152Z"
    }
   },
   "outputs": [
    {
     "data": {
      "text/plain": [
       "True     69\n",
       "False    12\n",
       "Name: MPG, dtype: int64"
      ]
     },
     "execution_count": 39,
     "metadata": {},
     "output_type": "execute_result"
    }
   ],
   "source": [
    "mpg_2050 = q20['MPG'].between(20,50)\n",
    "mpg_2050.value_counts()"
   ]
  },
  {
   "cell_type": "code",
   "execution_count": 40,
   "id": "9992e90c",
   "metadata": {
    "ExecuteTime": {
     "end_time": "2022-11-23T05:29:36.758790Z",
     "start_time": "2022-11-23T05:29:36.747433Z"
    }
   },
   "outputs": [
    {
     "name": "stdout",
     "output_type": "stream",
     "text": [
      "probability of mpg more than 20 and less than 50  is  0.8518518518518519\n"
     ]
    }
   ],
   "source": [
    "print(\"probability of mpg more than 20 and less than 50  is \", 69/81)"
   ]
  },
  {
   "cell_type": "markdown",
   "id": "6fd62103",
   "metadata": {},
   "source": [
    "# Question NO: 21a"
   ]
  },
  {
   "cell_type": "code",
   "execution_count": 42,
   "id": "9d75aed4",
   "metadata": {
    "ExecuteTime": {
     "end_time": "2022-11-23T05:31:52.448189Z",
     "start_time": "2022-11-23T05:31:52.419316Z"
    }
   },
   "outputs": [],
   "source": [
    "q21 = pd.read_csv('Cars (1).csv')"
   ]
  },
  {
   "cell_type": "code",
   "execution_count": 43,
   "id": "818e457d",
   "metadata": {
    "ExecuteTime": {
     "end_time": "2022-11-23T05:31:52.463813Z",
     "start_time": "2022-11-23T05:31:52.451590Z"
    }
   },
   "outputs": [],
   "source": [
    "mpg21 = q21['MPG']"
   ]
  },
  {
   "cell_type": "code",
   "execution_count": 44,
   "id": "ebc470cd",
   "metadata": {
    "ExecuteTime": {
     "end_time": "2022-11-23T05:31:52.729504Z",
     "start_time": "2022-11-23T05:31:52.466668Z"
    }
   },
   "outputs": [
    {
     "name": "stderr",
     "output_type": "stream",
     "text": [
      "C:\\Users\\pradeep kumar\\anaconda3\\lib\\site-packages\\seaborn\\distributions.py:2619: FutureWarning: `distplot` is a deprecated function and will be removed in a future version. Please adapt your code to use either `displot` (a figure-level function with similar flexibility) or `histplot` (an axes-level function for histograms).\n",
      "  warnings.warn(msg, FutureWarning)\n"
     ]
    },
    {
     "data": {
      "text/plain": [
       "<AxesSubplot:xlabel='MPG', ylabel='Density'>"
      ]
     },
     "execution_count": 44,
     "metadata": {},
     "output_type": "execute_result"
    },
    {
     "data": {
      "image/png": "[encoded data removed]",
      "text/plain": [
       "<Figure size 432x288 with 1 Axes>"
      ]
     },
     "metadata": {
      "needs_background": "light"
     },
     "output_type": "display_data"
    }
   ],
   "source": [
    "sns.distplot(mpg21) "
   ]
  },
  {
   "cell_type": "code",
   "execution_count": 45,
   "id": "bf06199a",
   "metadata": {
    "ExecuteTime": {
     "end_time": "2022-11-23T05:31:52.753816Z",
     "start_time": "2022-11-23T05:31:52.733564Z"
    }
   },
   "outputs": [
    {
     "data": {
      "text/plain": [
       "count    81.000000\n",
       "mean     34.422076\n",
       "std       9.131445\n",
       "min      12.101263\n",
       "25%      27.856252\n",
       "50%      35.152727\n",
       "75%      39.531633\n",
       "max      53.700681\n",
       "Name: MPG, dtype: float64"
      ]
     },
     "execution_count": 45,
     "metadata": {},
     "output_type": "execute_result"
    }
   ],
   "source": [
    "mpg21.describe()"
   ]
  },
  {
   "cell_type": "markdown",
   "id": "7b2dcf34",
   "metadata": {},
   "source": [
    "# Question NO: 21b"
   ]
  },
  {
   "cell_type": "code",
   "execution_count": 46,
   "id": "5c21d136",
   "metadata": {
    "ExecuteTime": {
     "end_time": "2022-11-23T05:32:48.104913Z",
     "start_time": "2022-11-23T05:32:48.079608Z"
    }
   },
   "outputs": [],
   "source": [
    "W_at = pd.read_csv('wc-at.csv')"
   ]
  },
  {
   "cell_type": "code",
   "execution_count": 47,
   "id": "968af634",
   "metadata": {
    "ExecuteTime": {
     "end_time": "2022-11-23T05:33:00.986019Z",
     "start_time": "2022-11-23T05:33:00.967393Z"
    }
   },
   "outputs": [
    {
     "data": {
      "text/html": [
       "<div>\n",
       "<style scoped>\n",
       "    .dataframe tbody tr th:only-of-type {\n",
       "        vertical-align: middle;\n",
       "    }\n",
       "\n",
       "    .dataframe tbody tr th {\n",
       "        vertical-align: top;\n",
       "    }\n",
       "\n",
       "    .dataframe thead th {\n",
       "        text-align: right;\n",
       "    }\n",
       "</style>\n",
       "<table border=\"1\" class=\"dataframe\">\n",
       "  <thead>\n",
       "    <tr style=\"text-align: right;\">\n",
       "      <th></th>\n",
       "      <th>Waist</th>\n",
       "      <th>AT</th>\n",
       "    </tr>\n",
       "  </thead>\n",
       "  <tbody>\n",
       "    <tr>\n",
       "      <th>0</th>\n",
       "      <td>74.75</td>\n",
       "      <td>25.72</td>\n",
       "    </tr>\n",
       "    <tr>\n",
       "      <th>1</th>\n",
       "      <td>72.60</td>\n",
       "      <td>25.89</td>\n",
       "    </tr>\n",
       "    <tr>\n",
       "      <th>2</th>\n",
       "      <td>81.80</td>\n",
       "      <td>42.60</td>\n",
       "    </tr>\n",
       "    <tr>\n",
       "      <th>3</th>\n",
       "      <td>83.95</td>\n",
       "      <td>42.80</td>\n",
       "    </tr>\n",
       "    <tr>\n",
       "      <th>4</th>\n",
       "      <td>74.65</td>\n",
       "      <td>29.84</td>\n",
       "    </tr>\n",
       "  </tbody>\n",
       "</table>\n",
       "</div>"
      ],
      "text/plain": [
       "   Waist     AT\n",
       "0  74.75  25.72\n",
       "1  72.60  25.89\n",
       "2  81.80  42.60\n",
       "3  83.95  42.80\n",
       "4  74.65  29.84"
      ]
     },
     "execution_count": 47,
     "metadata": {},
     "output_type": "execute_result"
    }
   ],
   "source": [
    "W_at.head()"
   ]
  },
  {
   "cell_type": "code",
   "execution_count": 58,
   "id": "0549dae6",
   "metadata": {
    "ExecuteTime": {
     "end_time": "2022-11-23T05:37:28.545990Z",
     "start_time": "2022-11-23T05:37:28.318618Z"
    }
   },
   "outputs": [
    {
     "data": {
      "text/plain": [
       "<AxesSubplot:xlabel='Waist', ylabel='Density'>"
      ]
     },
     "execution_count": 58,
     "metadata": {},
     "output_type": "execute_result"
    },
    {
     "data": {
      "image/png": "[encoded data removed]",
      "text/plain": [
       "<Figure size 432x288 with 1 Axes>"
      ]
     },
     "metadata": {
      "needs_background": "light"
     },
     "output_type": "display_data"
    }
   ],
   "source": [
    "import warnings\n",
    "warnings.filterwarnings('ignore')\n",
    "sns.distplot(W_at['Waist'])"
   ]
  },
  {
   "cell_type": "code",
   "execution_count": 59,
   "id": "07aaef5e",
   "metadata": {
    "ExecuteTime": {
     "end_time": "2022-11-23T05:37:31.544831Z",
     "start_time": "2022-11-23T05:37:31.292369Z"
    }
   },
   "outputs": [
    {
     "data": {
      "text/plain": [
       "<AxesSubplot:xlabel='AT', ylabel='Density'>"
      ]
     },
     "execution_count": 59,
     "metadata": {},
     "output_type": "execute_result"
    },
    {
     "data": {
      "image/png": "[encoded data removed]",
      "text/plain": [
       "<Figure size 432x288 with 1 Axes>"
      ]
     },
     "metadata": {
      "needs_background": "light"
     },
     "output_type": "display_data"
    }
   ],
   "source": [
    "sns.distplot(W_at['AT'])"
   ]
  },
  {
   "cell_type": "markdown",
   "id": "9e0b988c",
   "metadata": {},
   "source": [
    "Inference: Both the distributions doesn't follow normal distribution"
   ]
  },
  {
   "cell_type": "markdown",
   "id": "b5c1f6c5",
   "metadata": {},
   "source": [
    "# Question No: 12"
   ]
  },
  {
   "cell_type": "code",
   "execution_count": 60,
   "id": "31814841",
   "metadata": {
    "ExecuteTime": {
     "end_time": "2022-11-23T05:38:25.913021Z",
     "start_time": "2022-11-23T05:38:25.903211Z"
    }
   },
   "outputs": [],
   "source": [
    "students = [34,36,36,38,38,39,39,40,40,41,41,41,41,42,42,45,49,56]"
   ]
  },
  {
   "cell_type": "code",
   "execution_count": 61,
   "id": "d451f617",
   "metadata": {
    "ExecuteTime": {
     "end_time": "2022-11-23T05:38:34.611020Z",
     "start_time": "2022-11-23T05:38:34.590111Z"
    }
   },
   "outputs": [
    {
     "data": {
      "text/plain": [
       "40.5"
      ]
     },
     "execution_count": 61,
     "metadata": {},
     "output_type": "execute_result"
    }
   ],
   "source": [
    "np.median(students)"
   ]
  },
  {
   "cell_type": "code",
   "execution_count": 62,
   "id": "a6ba6989",
   "metadata": {
    "ExecuteTime": {
     "end_time": "2022-11-23T05:39:20.038153Z",
     "start_time": "2022-11-23T05:39:20.024249Z"
    }
   },
   "outputs": [
    {
     "data": {
      "text/plain": [
       "4.910306620885412"
      ]
     },
     "execution_count": 62,
     "metadata": {},
     "output_type": "execute_result"
    }
   ],
   "source": [
    "np.std(students)"
   ]
  },
  {
   "cell_type": "code",
   "execution_count": 63,
   "id": "6e84b0b6",
   "metadata": {
    "ExecuteTime": {
     "end_time": "2022-11-23T05:39:21.141935Z",
     "start_time": "2022-11-23T05:39:21.132853Z"
    }
   },
   "outputs": [
    {
     "name": "stdout",
     "output_type": "stream",
     "text": [
      "Skewness : 1.5428846814037365\n",
      "Kurtosis : 2.6216313788782957\n"
     ]
    }
   ],
   "source": [
    "print('Skewness :', skew(students))\n",
    "print('Kurtosis :',  kurtosis(students))"
   ]
  },
  {
   "cell_type": "code",
   "execution_count": 64,
   "id": "d0b1f22f",
   "metadata": {
    "ExecuteTime": {
     "end_time": "2022-11-23T05:39:23.423692Z",
     "start_time": "2022-11-23T05:39:23.163171Z"
    }
   },
   "outputs": [
    {
     "data": {
      "text/plain": [
       "<AxesSubplot:ylabel='Density'>"
      ]
     },
     "execution_count": 64,
     "metadata": {},
     "output_type": "execute_result"
    },
    {
     "data": {
      "image/png": "[encoded data removed]",
      "text/plain": [
       "<Figure size 432x288 with 1 Axes>"
      ]
     },
     "metadata": {
      "needs_background": "light"
     },
     "output_type": "display_data"
    }
   ],
   "source": [
    "sns.distplot(students)"
   ]
  },
  {
   "cell_type": "markdown",
   "id": "525ac5c4",
   "metadata": {},
   "source": [
    "# Question NO: 22"
   ]
  },
  {
   "cell_type": "code",
   "execution_count": 65,
   "id": "ac45f6af",
   "metadata": {
    "ExecuteTime": {
     "end_time": "2022-11-23T05:39:57.646921Z",
     "start_time": "2022-11-23T05:39:57.617276Z"
    }
   },
   "outputs": [
    {
     "data": {
      "text/plain": [
       "1.6448536269514722"
      ]
     },
     "execution_count": 65,
     "metadata": {},
     "output_type": "execute_result"
    }
   ],
   "source": [
    "from scipy.stats import norm\n",
    "norm.ppf(.95)  # for 90%"
   ]
  },
  {
   "cell_type": "code",
   "execution_count": 66,
   "id": "494104b2",
   "metadata": {
    "ExecuteTime": {
     "end_time": "2022-11-23T05:40:53.015613Z",
     "start_time": "2022-11-23T05:40:52.994831Z"
    }
   },
   "outputs": [
    {
     "data": {
      "text/plain": [
       "1.8807936081512509"
      ]
     },
     "execution_count": 66,
     "metadata": {},
     "output_type": "execute_result"
    }
   ],
   "source": [
    "# for 94%\n",
    "norm.ppf(.97) "
   ]
  },
  {
   "cell_type": "code",
   "execution_count": 67,
   "id": "3cb0b36b",
   "metadata": {
    "ExecuteTime": {
     "end_time": "2022-11-23T05:40:53.912566Z",
     "start_time": "2022-11-23T05:40:53.905156Z"
    }
   },
   "outputs": [
    {
     "data": {
      "text/plain": [
       "0.8416212335729143"
      ]
     },
     "execution_count": 67,
     "metadata": {},
     "output_type": "execute_result"
    }
   ],
   "source": [
    "# for 60%\n",
    "norm.ppf(.80)"
   ]
  },
  {
   "cell_type": "markdown",
   "id": "0a0d6b51",
   "metadata": {},
   "source": [
    "# Question NO:23"
   ]
  },
  {
   "cell_type": "code",
   "execution_count": 69,
   "id": "c935f0f1",
   "metadata": {
    "ExecuteTime": {
     "end_time": "2022-11-23T05:43:55.320788Z",
     "start_time": "2022-11-23T05:43:55.309902Z"
    }
   },
   "outputs": [
    {
     "data": {
      "text/plain": [
       "2.0638985616280205"
      ]
     },
     "execution_count": 69,
     "metadata": {},
     "output_type": "execute_result"
    }
   ],
   "source": [
    "from scipy.stats import t\n",
    "# df=24 and 95%\n",
    "t.ppf(.975,df = 24)"
   ]
  },
  {
   "cell_type": "code",
   "execution_count": 70,
   "id": "e51c8fa5",
   "metadata": {
    "ExecuteTime": {
     "end_time": "2022-11-23T05:43:55.336023Z",
     "start_time": "2022-11-23T05:43:55.324748Z"
    }
   },
   "outputs": [
    {
     "data": {
      "text/plain": [
       "2.1715446760080677"
      ]
     },
     "execution_count": 70,
     "metadata": {},
     "output_type": "execute_result"
    }
   ],
   "source": [
    "# df=24 and 96%\n",
    "t.ppf(.98,df = 24) "
   ]
  },
  {
   "cell_type": "code",
   "execution_count": 71,
   "id": "ac6d4c1a",
   "metadata": {
    "ExecuteTime": {
     "end_time": "2022-11-23T05:43:55.351021Z",
     "start_time": "2022-11-23T05:43:55.339373Z"
    }
   },
   "outputs": [
    {
     "data": {
      "text/plain": [
       "2.796939504772804"
      ]
     },
     "execution_count": 71,
     "metadata": {},
     "output_type": "execute_result"
    }
   ],
   "source": [
    "# df=24 and 99%\n",
    "t.ppf(.995,df = 24)"
   ]
  },
  {
   "cell_type": "markdown",
   "id": "3b6445c0",
   "metadata": {},
   "source": [
    "# Question NO: 24"
   ]
  },
  {
   "cell_type": "code",
   "execution_count": 72,
   "id": "23827b81",
   "metadata": {
    "ExecuteTime": {
     "end_time": "2022-11-23T05:43:55.367930Z",
     "start_time": "2022-11-23T05:43:55.354318Z"
    }
   },
   "outputs": [
    {
     "data": {
      "text/plain": [
       "-0.4714045207910317"
      ]
     },
     "execution_count": 72,
     "metadata": {},
     "output_type": "execute_result"
    }
   ],
   "source": [
    "from math import sqrt\n",
    "t_value = (260-270)/(90/sqrt(18))\n",
    "t_value"
   ]
  },
  {
   "cell_type": "code",
   "execution_count": 73,
   "id": "39996f25",
   "metadata": {
    "ExecuteTime": {
     "end_time": "2022-11-23T05:43:55.383215Z",
     "start_time": "2022-11-23T05:43:55.371124Z"
    }
   },
   "outputs": [
    {
     "data": {
      "text/plain": [
       "0.3218140331685075"
      ]
     },
     "execution_count": 73,
     "metadata": {},
     "output_type": "execute_result"
    }
   ],
   "source": [
    "from scipy.stats import t\n",
    "t.cdf(-0.471,df = 17)"
   ]
  },
  {
   "cell_type": "markdown",
   "id": "c0b36aa4",
   "metadata": {},
   "source": [
    " Here we can say that there is 32% chance that the bulb will no more than 260 days."
   ]
  },
  {
   "cell_type": "code",
   "execution_count": null,
   "id": "4804bd7f",
   "metadata": {},
   "outputs": [],
   "source": []
  }
 ],
 "metadata": {
  "kernelspec": {
   "display_name": "Python 3 (ipykernel)",
   "language": "python",
   "name": "python3"
  },
  "language_info": {
   "codemirror_mode": {
    "name": "ipython",
    "version": 3
   },
   "file_extension": ".py",
   "mimetype": "text/x-python",
   "name": "python",
   "nbconvert_exporter": "python",
   "pygments_lexer": "ipython3",
   "version": "3.9.12"
  }
 },
 "nbformat": 4,
 "nbformat_minor": 5
}
